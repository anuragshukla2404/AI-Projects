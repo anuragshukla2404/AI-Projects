{
 "cells": [
  {
   "cell_type": "code",
   "execution_count": 1,
   "metadata": {},
   "outputs": [],
   "source": [
    "from langchain_community.document_loaders import PyPDFLoader\n",
    "from langchain_community.document_loaders import PyPDFDirectoryLoader\n",
    "from langchain.text_splitter import RecursiveCharacterTextSplitter\n",
    "from langchain_community.vectorstores import FAISS\n",
    "\n",
    "from langchain_community.embeddings import HuggingFaceBgeEmbeddings\n",
    "from langchain.prompts import PromptTemplate\n",
    "\n",
    "from langchain.chains import RetrievalQA"
   ]
  },
  {
   "cell_type": "code",
   "execution_count": 4,
   "metadata": {},
   "outputs": [
    {
     "data": {
      "text/plain": [
       "Document(page_content='Health Insurance Coverage Status and Type \\nby Geography: 2021 and 2022\\nAmerican Community Survey Briefs\\nACSBR-015Issued September 2023Douglas Conway and Breauna Branch\\nINTRODUCTION\\nDemographic shifts as well as economic and govern-\\nment policy changes can affect people’s access to health coverage. For example, between 2021 and 2022, the labor market continued to improve, which may have affected private coverage in the United States \\nduring that time.\\n1 Public policy changes included \\nthe renewal of the Public Health Emergency, which \\nallowed Medicaid enrollees to remain covered under the Continuous Enrollment Provision.\\n2 The American \\nRescue Plan (ARP) enhanced Marketplace premium subsidies for those with incomes above 400 percent of the poverty level as well as for unemployed people.\\n3', metadata={'source': 'us_census\\\\acsbr-015.pdf', 'page': 0})"
      ]
     },
     "execution_count": 4,
     "metadata": {},
     "output_type": "execute_result"
    }
   ],
   "source": [
    "## Read the pdfs from folder\n",
    "loader = PyPDFDirectoryLoader(\"./us_census\")\n",
    "\n",
    "documents = loader.load()\n",
    "text_splitter = RecursiveCharacterTextSplitter(chunk_size=1000,chunk_overlap=200)\n",
    "\n",
    "final_documents = text_splitter.split_documents(documents)\n",
    "final_documents[0]"
   ]
  },
  {
   "cell_type": "code",
   "execution_count": 5,
   "metadata": {},
   "outputs": [
    {
     "data": {
      "text/plain": [
       "316"
      ]
     },
     "execution_count": 5,
     "metadata": {},
     "output_type": "execute_result"
    }
   ],
   "source": [
    "len(final_documents)"
   ]
  },
  {
   "cell_type": "code",
   "execution_count": 10,
   "metadata": {},
   "outputs": [
    {
     "name": "stderr",
     "output_type": "stream",
     "text": [
      "c:\\Users\\Divyanshu Shukla\\Desktop\\projects\\groq\\.venv\\Lib\\site-packages\\huggingface_hub\\file_download.py:157: UserWarning: `huggingface_hub` cache-system uses symlinks by default to efficiently store duplicated files but your machine does not support them in C:\\Users\\Divyanshu Shukla\\.cache\\huggingface\\hub\\models--BAAI--bge-small-en-v1.5. Caching files will still work but in a degraded version that might require more space on your disk. This warning can be disabled by setting the `HF_HUB_DISABLE_SYMLINKS_WARNING` environment variable. For more details, see https://huggingface.co/docs/huggingface_hub/how-to-cache#limitations.\n",
      "To support symlinks on Windows, you either need to activate Developer Mode or to run Python as an administrator. In order to see activate developer mode, see this article: https://docs.microsoft.com/en-us/windows/apps/get-started/enable-your-device-for-development\n",
      "  warnings.warn(message)\n",
      "c:\\Users\\Divyanshu Shukla\\Desktop\\projects\\groq\\.venv\\Lib\\site-packages\\huggingface_hub\\file_download.py:1132: FutureWarning: `resume_download` is deprecated and will be removed in version 1.0.0. Downloads always resume when possible. If you want to force a new download, use `force_download=True`.\n",
      "  warnings.warn(\n"
     ]
    }
   ],
   "source": [
    "# Embeddings using HuggingFace\n",
    "huggingface_embeddings = HuggingFaceBgeEmbeddings(\n",
    "    model_name = \"BAAI/bge-small-en-v1.5\",\n",
    "    model_kwargs = {'device':'cpu'},\n",
    "    encode_kwargs={'normalize_embeddings':True}\n",
    ")"
   ]
  },
  {
   "cell_type": "code",
   "execution_count": 16,
   "metadata": {},
   "outputs": [
    {
     "data": {
      "text/plain": [
       "array([-7.04288855e-02, -1.23842554e-02, -2.66667102e-02,  4.11087461e-02,\n",
       "        6.13234006e-02,  4.28758524e-02, -3.12031247e-02,  1.08945612e-02,\n",
       "       -9.10003558e-02, -3.86431366e-02,  5.13605997e-02,  4.69753593e-02,\n",
       "       -3.68075371e-02, -1.93688013e-02,  1.25593995e-03,  1.43930232e-02,\n",
       "       -3.27467383e-03, -1.73090789e-02, -2.35300399e-02,  4.39519919e-02,\n",
       "       -3.57484818e-02,  5.30993156e-02, -4.95760702e-03, -3.12633887e-02,\n",
       "        2.02355124e-02,  2.55952366e-02,  9.30069294e-03, -1.56416651e-03,\n",
       "       -5.96426316e-02, -1.50115237e-01, -2.34086649e-03,  2.31445264e-02,\n",
       "       -6.52164295e-02, -2.72858068e-02,  5.73886139e-03,  1.56529583e-02,\n",
       "       -2.15224996e-02,  8.06813985e-02,  2.76255663e-02,  3.61731350e-02,\n",
       "       -3.71296443e-02,  1.15361623e-02, -4.46854671e-03, -7.02856295e-03,\n",
       "       -4.28288169e-02, -8.35747982e-04, -2.72072032e-02, -1.33522623e-03,\n",
       "        1.39592998e-02, -3.40681337e-02,  3.92966047e-02, -1.98309496e-02,\n",
       "        3.44090946e-02,  7.70487338e-02,  4.96050566e-02, -6.17328472e-02,\n",
       "       -1.10091884e-02, -1.09690856e-02, -3.20306085e-02,  1.72439925e-02,\n",
       "        4.32970822e-02,  2.00964883e-02, -2.70802468e-01,  8.22313651e-02,\n",
       "       -1.23690041e-02,  5.80921471e-02, -1.23068122e-02, -1.14082582e-02,\n",
       "       -2.42054090e-02, -5.36417067e-02, -5.22073694e-02,  3.59113254e-02,\n",
       "       -6.57735914e-02,  1.00703947e-02,  4.02295291e-02,  2.02292968e-02,\n",
       "        6.67240145e-03,  2.61594485e-02,  1.25598563e-02, -1.55904684e-02,\n",
       "        9.23868362e-03,  3.36049013e-02,  3.78417224e-03, -5.54615669e-02,\n",
       "        3.51180844e-02, -9.06467140e-02,  4.05179262e-02, -4.02006842e-02,\n",
       "        1.12582361e-02, -2.30210591e-02, -3.43800746e-02, -1.11435745e-02,\n",
       "        2.34574229e-02,  2.51755603e-02,  7.96135236e-03,  3.41936685e-02,\n",
       "       -1.04573108e-02,  5.14776120e-03, -2.98341513e-02,  3.50219727e-01,\n",
       "       -1.90041643e-02,  3.86477914e-03, -2.28000968e-03,  3.54335131e-03,\n",
       "        2.74525722e-03, -4.09135073e-02,  1.38402693e-02,  1.41868852e-02,\n",
       "        2.49243211e-02,  6.45604497e-03,  2.79544760e-02, -4.21121307e-02,\n",
       "        1.40879015e-02,  5.35943806e-02, -4.59995978e-02, -4.52485960e-03,\n",
       "        5.06955050e-02, -9.16089979e-04,  1.02992162e-01, -2.06213985e-02,\n",
       "       -7.46759260e-03,  4.62250747e-02, -1.36999488e-02, -5.31665049e-02,\n",
       "        3.40436003e-03,  6.04400635e-02,  4.01430167e-02,  1.27033308e-01,\n",
       "        4.00499403e-02, -4.05466072e-02,  9.37485099e-02, -1.90176889e-02,\n",
       "        1.31735171e-03,  2.40512080e-02, -1.75692197e-02,  3.40245606e-04,\n",
       "       -2.55180262e-02,  3.47322151e-02, -2.21869554e-02,  6.12947196e-02,\n",
       "        3.40067819e-02, -6.25611981e-03, -2.99320766e-03, -1.46948814e-01,\n",
       "       -4.08015065e-02,  1.73683971e-01, -3.10676116e-02,  3.82589251e-02,\n",
       "       -7.71582033e-03, -2.15637758e-02, -4.40496951e-02,  6.03508465e-02,\n",
       "       -6.18358478e-02,  4.05801125e-02, -6.50468618e-02,  2.67355032e-02,\n",
       "        1.71637088e-02,  1.68131012e-02, -3.42101939e-02, -4.41381223e-02,\n",
       "        6.77578151e-02, -4.49134633e-02, -6.40635639e-02,  3.75782251e-02,\n",
       "        1.85942706e-02, -4.05748188e-02, -7.87825231e-03, -4.06289697e-02,\n",
       "        4.19438034e-02,  1.39938267e-02,  1.03571499e-02,  4.99235354e-02,\n",
       "        1.08986422e-02, -1.58715025e-02,  9.87016782e-02,  6.67736772e-03,\n",
       "       -3.68784443e-02, -3.82263388e-04, -2.23976355e-02, -5.32798506e-02,\n",
       "       -1.37908980e-02, -1.26587376e-02, -4.05839458e-02, -4.81968522e-02,\n",
       "       -3.52633037e-02, -3.34989391e-02, -6.08051680e-02,  3.61822620e-02,\n",
       "        4.56408747e-02, -4.82619964e-02,  5.59184875e-04,  5.57518099e-03,\n",
       "       -6.86912462e-02,  2.34709643e-02, -3.45305204e-02, -2.24942318e-03,\n",
       "       -4.13464457e-02, -3.25765857e-03,  7.57711455e-02, -2.36547478e-02,\n",
       "       -2.52803508e-02,  2.93085892e-02,  2.17311159e-02,  3.02753551e-03,\n",
       "        5.01957722e-03, -7.58737850e-04,  5.31094447e-02, -5.83696142e-02,\n",
       "        1.76091529e-02, -1.77158080e-02, -1.45984311e-02,  3.59801240e-02,\n",
       "        3.62934135e-02, -7.33115245e-03,  3.92069966e-02,  1.74828190e-02,\n",
       "        1.98749197e-03, -1.58725455e-02,  4.38958965e-03,  2.51116473e-02,\n",
       "        5.46677373e-02,  5.84381074e-02,  9.36633721e-02, -2.95076609e-01,\n",
       "       -1.13158545e-03, -4.04608995e-03,  6.06225897e-03, -7.90753067e-02,\n",
       "       -3.26584131e-02, -4.18313220e-02,  3.49078476e-02,  1.62815396e-02,\n",
       "        8.08260366e-02,  3.81984860e-02,  7.21413270e-03, -2.51223613e-02,\n",
       "        9.76504758e-02,  2.64798887e-02, -7.92870298e-02,  2.37707477e-02,\n",
       "       -1.70702953e-02, -1.24259880e-02, -7.46688759e-03,  9.27668996e-03,\n",
       "       -5.54468809e-03, -6.84698820e-02, -8.87321867e-03,  6.20376207e-02,\n",
       "       -3.22858314e-03,  4.18343171e-02, -3.83763947e-02, -7.68951848e-02,\n",
       "        2.29435321e-03, -3.61370593e-02,  5.51990084e-02, -9.32010007e-04,\n",
       "       -1.19699955e-01,  7.35154077e-02,  1.06775630e-02, -6.91131204e-02,\n",
       "        8.52105208e-03, -4.62412648e-02, -4.82221926e-03, -3.47222872e-02,\n",
       "        5.51383644e-02, -4.18726131e-02,  1.96490008e-02, -1.26213050e-02,\n",
       "       -5.07568419e-02,  4.84030023e-02,  7.33630434e-02, -6.40127584e-02,\n",
       "        2.47924812e-02,  9.95949004e-03, -3.15952040e-02, -1.60843339e-02,\n",
       "       -1.33196423e-02,  2.35973429e-02, -4.97045629e-02, -2.55260617e-02,\n",
       "        3.27324197e-02, -3.91134340e-03, -2.14727353e-02,  3.70542556e-02,\n",
       "       -1.45638352e-02,  6.13179356e-02,  6.69132406e-03, -5.80767076e-03,\n",
       "       -5.19161336e-02,  6.85249874e-03, -4.78556007e-03, -6.76790252e-02,\n",
       "        4.82464129e-05, -1.71920669e-03,  5.44146337e-02, -1.86707303e-02,\n",
       "       -2.16092002e-02,  2.31118780e-02, -3.90535523e-03,  5.74968606e-02,\n",
       "       -4.08242270e-03,  5.66417538e-03, -4.75299805e-02,  4.53239679e-02,\n",
       "       -8.10884535e-02,  4.66443691e-03,  4.58686464e-02, -1.70936529e-02,\n",
       "        1.98592655e-02,  3.16006877e-02,  1.44740762e-02, -3.93691380e-03,\n",
       "       -8.83645189e-05, -1.89133212e-02, -2.27127597e-02, -6.21810602e-03,\n",
       "       -3.65991145e-02,  1.97135683e-04,  1.17461393e-02, -2.13315487e-01,\n",
       "        3.81172262e-02,  2.92557646e-02, -3.77116054e-02,  2.30073854e-02,\n",
       "       -3.70500199e-02, -2.16258653e-02,  1.81953460e-02, -1.78418290e-02,\n",
       "       -2.70800740e-02,  5.78412451e-02,  7.16153979e-02,  1.18762843e-01,\n",
       "       -1.17916428e-02, -1.99531093e-02,  4.36213687e-02,  6.37327656e-02,\n",
       "       -1.39302679e-03,  3.66988257e-02, -3.80405001e-02,  4.67083007e-02,\n",
       "       -7.17418864e-02,  1.39399543e-01, -5.04091643e-02,  2.92824619e-02,\n",
       "       -5.40724583e-02,  2.97242450e-03,  3.35498080e-02, -4.24383506e-02,\n",
       "        2.66577918e-02,  4.68632318e-02,  7.59185012e-03,  2.43517961e-02,\n",
       "       -2.66962312e-02,  6.43838495e-02,  9.21632047e-04,  1.22639826e-02,\n",
       "        5.57080172e-02, -1.05241640e-02,  1.68970525e-02, -4.68734726e-02,\n",
       "       -2.74056289e-02,  4.88796271e-02,  8.19754042e-03,  5.78504652e-02,\n",
       "       -2.15622708e-02, -5.07916212e-02, -5.90854287e-02, -7.87314214e-03,\n",
       "        7.08662570e-02,  7.18622841e-03, -1.64579209e-02,  3.60174896e-03,\n",
       "        4.28294204e-03, -4.51162457e-02,  4.04203124e-03, -2.22537071e-02,\n",
       "        3.31182405e-02,  7.97811896e-03, -2.68251393e-02,  1.44231822e-02,\n",
       "        2.24512536e-02, -7.33139589e-02,  3.24139521e-02,  5.32076620e-02])"
      ]
     },
     "execution_count": 16,
     "metadata": {},
     "output_type": "execute_result"
    }
   ],
   "source": [
    "import numpy as np\n",
    "np.array(huggingface_embeddings.embed_query(documents[0].page_content))"
   ]
  },
  {
   "cell_type": "code",
   "execution_count": 19,
   "metadata": {},
   "outputs": [
    {
     "data": {
      "text/plain": [
       "(384,)"
      ]
     },
     "execution_count": 19,
     "metadata": {},
     "output_type": "execute_result"
    }
   ],
   "source": [
    "np.array(huggingface_embeddings.embed_query(documents[0].page_content)).shape"
   ]
  },
  {
   "cell_type": "code",
   "execution_count": 20,
   "metadata": {},
   "outputs": [
    {
     "name": "stderr",
     "output_type": "stream",
     "text": [
      "c:\\Users\\Divyanshu Shukla\\Desktop\\projects\\groq\\.venv\\Lib\\site-packages\\huggingface_hub\\file_download.py:157: UserWarning: `huggingface_hub` cache-system uses symlinks by default to efficiently store duplicated files but your machine does not support them in C:\\Users\\Divyanshu Shukla\\.cache\\huggingface\\hub\\models--BAAI--bge-large-en. Caching files will still work but in a degraded version that might require more space on your disk. This warning can be disabled by setting the `HF_HUB_DISABLE_SYMLINKS_WARNING` environment variable. For more details, see https://huggingface.co/docs/huggingface_hub/how-to-cache#limitations.\n",
      "To support symlinks on Windows, you either need to activate Developer Mode or to run Python as an administrator. In order to see activate developer mode, see this article: https://docs.microsoft.com/en-us/windows/apps/get-started/enable-your-device-for-development\n",
      "  warnings.warn(message)\n",
      "c:\\Users\\Divyanshu Shukla\\Desktop\\projects\\groq\\.venv\\Lib\\site-packages\\huggingface_hub\\file_download.py:1132: FutureWarning: `resume_download` is deprecated and will be removed in version 1.0.0. Downloads always resume when possible. If you want to force a new download, use `force_download=True`.\n",
      "  warnings.warn(\n"
     ]
    }
   ],
   "source": [
    "vector_store = FAISS.from_documents(final_documents[:120],HuggingFaceBgeEmbeddings())"
   ]
  },
  {
   "cell_type": "code",
   "execution_count": 22,
   "metadata": {},
   "outputs": [
    {
     "name": "stdout",
     "output_type": "stream",
     "text": [
      "2 U.S. Census Bureau\n",
      "WHAT IS HEALTH INSURANCE COVERAGE?\n",
      "This brief presents state-level estimates of health insurance coverage \n",
      "using data from the American Community Survey (ACS). The  \n",
      "U.S. Census Bureau conducts the ACS throughout the year; the \n",
      "survey asks respondents to report their coverage at the time of \n",
      "interview. The resulting measure of health insurance coverage, \n",
      "therefore, reflects an annual average of current comprehensive \n",
      "health insurance coverage status.* This uninsured rate measures a \n",
      "different concept than the measure based on the Current Population \n",
      "Survey Annual Social and Economic Supplement (CPS ASEC). \n",
      "For reporting purposes, the ACS broadly classifies health insurance \n",
      "coverage as private insurance or public insurance. The ACS defines \n",
      "private health insurance as a plan provided through an employer \n",
      "or a union, coverage purchased directly by an individual from an \n",
      "insurance company or through an exchange (such as healthcare.\n"
     ]
    }
   ],
   "source": [
    "query = \"WHAT IS HEALTH INSURANCE COVERAGE ?\"\n",
    "relevant_documents = vector_store.similarity_search(query)\n",
    "\n",
    "print(relevant_documents[0].page_content)"
   ]
  },
  {
   "cell_type": "code",
   "execution_count": 23,
   "metadata": {},
   "outputs": [
    {
     "name": "stdout",
     "output_type": "stream",
     "text": [
      "tags=['FAISS', 'HuggingFaceBgeEmbeddings'] vectorstore=<langchain_community.vectorstores.faiss.FAISS object at 0x000001F36C214C10>\n"
     ]
    }
   ],
   "source": [
    "retriever = vector_store.as_retriever(search_type=\"similarity\",search_karwgs={\"k\":3})\n",
    "print(retriever)"
   ]
  },
  {
   "cell_type": "code",
   "execution_count": 80,
   "metadata": {},
   "outputs": [
    {
     "name": "stderr",
     "output_type": "stream",
     "text": [
      "c:\\Users\\Divyanshu Shukla\\Desktop\\projects\\groq\\.venv\\Lib\\site-packages\\huggingface_hub\\file_download.py:157: UserWarning: `huggingface_hub` cache-system uses symlinks by default to efficiently store duplicated files but your machine does not support them in C:\\Users\\Divyanshu Shukla\\.cache\\huggingface\\hub\\models--facebook--opt-125m. Caching files will still work but in a degraded version that might require more space on your disk. This warning can be disabled by setting the `HF_HUB_DISABLE_SYMLINKS_WARNING` environment variable. For more details, see https://huggingface.co/docs/huggingface_hub/how-to-cache#limitations.\n",
      "To support symlinks on Windows, you either need to activate Developer Mode or to run Python as an administrator. In order to see activate developer mode, see this article: https://docs.microsoft.com/en-us/windows/apps/get-started/enable-your-device-for-development\n",
      "  warnings.warn(message)\n",
      "c:\\Users\\Divyanshu Shukla\\Desktop\\projects\\groq\\.venv\\Lib\\site-packages\\huggingface_hub\\file_download.py:1132: FutureWarning: `resume_download` is deprecated and will be removed in version 1.0.0. Downloads always resume when possible. If you want to force a new download, use `force_download=True`.\n",
      "  warnings.warn(\n",
      "c:\\Users\\Divyanshu Shukla\\Desktop\\projects\\groq\\.venv\\Lib\\site-packages\\transformers\\generation\\configuration_utils.py:515: UserWarning: `do_sample` is set to `False`. However, `temperature` is set to `0` -- this flag is only used in sample-based generation modes. You should set `do_sample=True` or unset `temperature`.\n",
      "  warnings.warn(\n"
     ]
    },
    {
     "data": {
      "text/plain": [
       "'What is the health insurance coverage?\\n\\nHealth insurance coverage is a type of insurance that is offered by a health insurance company. It is a type of insurance that is offered by a health insurance company. It is a type of insurance that is offered by a health insurance company. It is a type of insurance that is offered by a health insurance company. It is a type of insurance that is offered by a health insurance company. It is a type of insurance that is offered by a health insurance company. It is a type of insurance that is offered by a health insurance company. It is a type of insurance that is offered by a health insurance company. It is a type of insurance that is offered by a health insurance company. It is a type of insurance that is offered by a health insurance company. It is a type of insurance that is offered by a health insurance company. It is a type of insurance that is offered by a health insurance company. It is a type of insurance that is offered by a health insurance company. It is a type of insurance that is offered by a health insurance company. It is a type of insurance that is offered by a health insurance company. It is a type of insurance that is offered by a health insurance company. It is a type of insurance that is offered by a health insurance company. It is a type of insurance that is offered by a health insurance company. It is a type of insurance that is offered by a health insurance company. It is a type of insurance that is offered by a'"
      ]
     },
     "execution_count": 80,
     "metadata": {},
     "output_type": "execute_result"
    }
   ],
   "source": [
    "from langchain_community.llms.huggingface_pipeline import HuggingFacePipeline\n",
    "\n",
    "hf = HuggingFacePipeline.from_model_id(\n",
    "    model_id=\"facebook/opt-125m\",\n",
    "    task=\"text-generation\",\n",
    "    pipeline_kwargs={\"temperature\": 0, \"max_new_tokens\": 300}\n",
    ")\n",
    "\n",
    "llm = hf \n",
    "llm.invoke(query)"
   ]
  },
  {
   "cell_type": "code",
   "execution_count": 81,
   "metadata": {},
   "outputs": [],
   "source": [
    "prompt_template=\"\"\"\n",
    "Use the following piece of context to answer the question asked.\n",
    "Please try to provide the answer only based on the context\n",
    "\n",
    "{context}\n",
    "Question:{question}\n",
    "\n",
    "Helpful Answers:\n",
    " \"\"\""
   ]
  },
  {
   "cell_type": "code",
   "execution_count": 82,
   "metadata": {},
   "outputs": [],
   "source": [
    "prompt=PromptTemplate(template=prompt_template,input_variables=[\"context\",\"question\"])\n"
   ]
  },
  {
   "cell_type": "code",
   "execution_count": 83,
   "metadata": {},
   "outputs": [],
   "source": [
    "retrievalQA=RetrievalQA.from_chain_type(\n",
    "    llm=hf,\n",
    "    chain_type=\"stuff\",\n",
    "    retriever=retriever,\n",
    "    return_source_documents=True,\n",
    "    chain_type_kwargs={\"prompt\":prompt}\n",
    ")"
   ]
  },
  {
   "cell_type": "code",
   "execution_count": 84,
   "metadata": {},
   "outputs": [],
   "source": [
    "query=\"\"\"DIFFERENCES IN THE\n",
    "UNINSURED RATE BY STATE\n",
    "IN 2022\"\"\""
   ]
  },
  {
   "cell_type": "code",
   "execution_count": 85,
   "metadata": {},
   "outputs": [
    {
     "name": "stderr",
     "output_type": "stream",
     "text": [
      "c:\\Users\\Divyanshu Shukla\\Desktop\\projects\\groq\\.venv\\Lib\\site-packages\\transformers\\generation\\configuration_utils.py:515: UserWarning: `do_sample` is set to `False`. However, `temperature` is set to `0` -- this flag is only used in sample-based generation modes. You should set `do_sample=True` or unset `temperature`.\n",
      "  warnings.warn(\n"
     ]
    },
    {
     "name": "stdout",
     "output_type": "stream",
     "text": [
      "\n",
      "Use the following piece of context to answer the question asked.\n",
      "Please try to provide the answer only based on the context\n",
      "\n",
      "decreases (1.8 percentage points) \n",
      "in the uninsured rate from 2021 to \n",
      "2022, which is consistent with the \n",
      "decrease in the uninsured rates \n",
      "in both South Carolina and North \n",
      "Carolina.36 The uninsured rate in 14 \n",
      "metropolitan areas did not statisti -\n",
      "cally change between 2021 and \n",
      "2022.\n",
      "34 These most populous metropolitan \n",
      "areas had the highest uninsured rates in \n",
      "2022 and 2021. Refer to < www.census.\n",
      "gov/content/dam/Census/library/\n",
      "publications/2022/acs/acsbr-013.pdf >.\n",
      "35 When comparing metropolitan areas \n",
      "from 2021 to 2022, we used the 25 most \n",
      "populous metropolitan areas in 2022 as \n",
      "the basis for comparison. However, none of \n",
      "the 25 most populous metropolitan areas \n",
      "changed from 2021 to 2022; only the order \n",
      "of their population ranking within the 25 \n",
      "metro areas did.\n",
      "36 The changes in the uninsured \n",
      "rates from 2021 to 2022 in Dallas-Fort \n",
      "Worth-Arlington, TX (1.0 percentage \n",
      "points); Denver-Aurora-Lakewood, CO \n",
      "(1.4 percentage points); Houston-The\n",
      "\n",
      "8 U.S. Census Bureau\n",
      "which was the state’s uninsured \n",
      "rate in 2019, the year before it \n",
      "expanded Medicaid eligibility.22\n",
      "Declines in the uninsured rate in \n",
      "the majority of these states were \n",
      "related to changes in their public \n",
      "and private coverage rates. For \n",
      "seven of the states with lower \n",
      "uninsured rates in 2022, the dif -\n",
      "ference was driven by increases \n",
      "in private coverage. These states \n",
      "were Florida, Kansas, Mississippi, \n",
      "North Carolina, Ohio, South \n",
      "Carolina, and Texas.\n",
      "For seven states, the uninsured \n",
      "rate decrease was related to \n",
      "increases in public coverage with \n",
      "no corresponding change in the \n",
      "level of private coverage. These \n",
      "states were Alabama, California, \n",
      "Georgia, Illinois, Indiana, Michigan, \n",
      "and Oklahoma. In three states \n",
      "(Missouri, New York, and Virginia), \n",
      "it was shifts in coverage from pri -\n",
      "vate to public that contributed to \n",
      "the decline in their uninsured rates. \n",
      "The uninsured rate in expansion \n",
      "states as a group decreased from \n",
      "6.8 percent to 6.3 percent; non -\n",
      "\n",
      "36 The changes in the uninsured \n",
      "rates from 2021 to 2022 in Dallas-Fort \n",
      "Worth-Arlington, TX (1.0 percentage \n",
      "points); Denver-Aurora-Lakewood, CO \n",
      "(1.4 percentage points); Houston-The \n",
      "Woodlands-Sugar Land, TX (1.3 percentage \n",
      "points); and Orlando-Kissimmee-Sanford, FL \n",
      "(1.4 percentage points), were not statistically \n",
      "different from the change in Charlotte-\n",
      "Concord-Gastonia, NC-SC.\n",
      "\n",
      "and lowest public coverage rate, \n",
      "while New Mexico had the high -\n",
      "est public coverage and the lowest \n",
      "private coverage rate, consistent \n",
      "37 The uninsured rates in the District \n",
      "of Columbia and Massachusetts were not \n",
      "statistically different from one another.with the pattern in 2021.38, 39 Across \n",
      "the 25 most populous metropolitan \n",
      "areas, Boston-Cambridge-Newton, \n",
      "MA-NH, had the lowest uninsured \n",
      "rate in 2022, while three metropoli -\n",
      "tan areas in Texas had the highest \n",
      "uninsured rates, consistent with the \n",
      "state’s uninsured state ranking.\n",
      "38 Douglas Conway and Breauna Branch, \n",
      "“Health Insurance Coverage Status and Type \n",
      "by Geography: 2019 and 2021,” American \n",
      "Community Survey Briefs , ACSBR-013,  \n",
      "U.S. Census Bureau, Washington, DC, 2022, \n",
      "<www.census.gov/content/dam/Census/\n",
      "library/publications/2022/acs/acsbr-013.pdf >.\n",
      "39 In 2022, the private coverage rates were \n",
      "not statistically different in North Dakota and \n",
      "Utah.Figure /five.tab/period.tab\n",
      "Question:DIFFERENCES IN THE\n",
      "UNINSURED RATE BY STATE\n",
      "IN 2022\n",
      "\n",
      "Helpful Answers:\n",
      " \n",
      "1.\n",
      "\n",
      "The uninsured rate in North Dakota was \n",
      "1.8 percentage points higher than in \n",
      "2021.\n",
      "\n",
      "2.\n",
      "\n",
      "The uninsured rate in Utah was \n",
      "1.8 percentage points higher than in \n",
      "2021.\n",
      "\n",
      "3.\n",
      "\n",
      "The uninsured rate in North Dakota was \n",
      "1.8 percentage points higher than in \n",
      "2021.\n",
      "\n",
      "4.\n",
      "\n",
      "The uninsured rate in Utah was \n",
      "1.8 percentage points higher than in \n",
      "2021.\n",
      "\n",
      "5.\n",
      "\n",
      "The uninsured rate in Utah was \n",
      "1.8 percentage points higher than in \n",
      "2021.\n",
      "\n",
      "6.\n",
      "\n",
      "The uninsured rate in Utah was \n",
      "1.8 percentage points higher than in \n",
      "2021.\n",
      "\n",
      "7.\n",
      "\n",
      "The uninsured rate in Utah was \n",
      "1.8 percentage points higher than in \n",
      "2021.\n",
      "\n",
      "8.\n",
      "\n",
      "The uninsured rate in Utah was \n",
      "1.8 percentage points higher than in \n",
      "2021.\n",
      "\n",
      "9.\n",
      "\n",
      "The uninsured rate in Utah was \n",
      "1.8 percentage points higher than in \n",
      "2021.\n",
      "\n",
      "10.\n",
      "\n",
      "The uninsured rate in Utah was \n",
      "1.8 percentage points higher than in \n",
      "2021.\n",
      "\n",
      "11.\n",
      "\n",
      "The uninsured rate in Utah was \n",
      "1.8 percentage points higher than in \n",
      "2021.\n",
      "\n",
      "\n"
     ]
    }
   ],
   "source": [
    "result = retrievalQA.invoke({\"query\":query})\n",
    "print(result['result'])"
   ]
  },
  {
   "cell_type": "code",
   "execution_count": null,
   "metadata": {},
   "outputs": [],
   "source": []
  }
 ],
 "metadata": {
  "kernelspec": {
   "display_name": ".venv",
   "language": "python",
   "name": "python3"
  },
  "language_info": {
   "codemirror_mode": {
    "name": "ipython",
    "version": 3
   },
   "file_extension": ".py",
   "mimetype": "text/x-python",
   "name": "python",
   "nbconvert_exporter": "python",
   "pygments_lexer": "ipython3",
   "version": "3.11.4"
  }
 },
 "nbformat": 4,
 "nbformat_minor": 2
}
